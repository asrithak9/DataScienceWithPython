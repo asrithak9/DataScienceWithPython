{
  "nbformat": 4,
  "nbformat_minor": 0,
  "metadata": {
    "colab": {
      "name": "Assignment7_Asritha.ipynb",
      "provenance": [],
      "collapsed_sections": []
    },
    "kernelspec": {
      "name": "python3",
      "display_name": "Python 3"
    }
  },
  "cells": [
    {
      "cell_type": "code",
      "metadata": {
        "id": "qSxM4PhuhTPc",
        "colab_type": "code",
        "colab": {}
      },
      "source": [
        "import pandas as pd\n",
        "import matplotlib.pyplot as plt\n",
        "import numpy as np"
      ],
      "execution_count": 0,
      "outputs": []
    },
    {
      "cell_type": "code",
      "metadata": {
        "id": "iug18kamx2oc",
        "colab_type": "code",
        "colab": {
          "base_uri": "https://localhost:8080/",
          "height": 419
        },
        "outputId": "ad87d4e0-6e40-4863-9443-4e6ae40a88e5"
      },
      "source": [
        "iris_df = pd.read_csv(\"iris.csv\")\n",
        "iris_df"
      ],
      "execution_count": 74,
      "outputs": [
        {
          "output_type": "execute_result",
          "data": {
            "text/html": [
              "<div>\n",
              "<style scoped>\n",
              "    .dataframe tbody tr th:only-of-type {\n",
              "        vertical-align: middle;\n",
              "    }\n",
              "\n",
              "    .dataframe tbody tr th {\n",
              "        vertical-align: top;\n",
              "    }\n",
              "\n",
              "    .dataframe thead th {\n",
              "        text-align: right;\n",
              "    }\n",
              "</style>\n",
              "<table border=\"1\" class=\"dataframe\">\n",
              "  <thead>\n",
              "    <tr style=\"text-align: right;\">\n",
              "      <th></th>\n",
              "      <th>150</th>\n",
              "      <th>4</th>\n",
              "      <th>setosa</th>\n",
              "      <th>versicolor</th>\n",
              "      <th>virginica</th>\n",
              "    </tr>\n",
              "  </thead>\n",
              "  <tbody>\n",
              "    <tr>\n",
              "      <th>0</th>\n",
              "      <td>5.1</td>\n",
              "      <td>3.5</td>\n",
              "      <td>1.4</td>\n",
              "      <td>0.2</td>\n",
              "      <td>0</td>\n",
              "    </tr>\n",
              "    <tr>\n",
              "      <th>1</th>\n",
              "      <td>4.9</td>\n",
              "      <td>3.0</td>\n",
              "      <td>1.4</td>\n",
              "      <td>0.2</td>\n",
              "      <td>0</td>\n",
              "    </tr>\n",
              "    <tr>\n",
              "      <th>2</th>\n",
              "      <td>4.7</td>\n",
              "      <td>3.2</td>\n",
              "      <td>1.3</td>\n",
              "      <td>0.2</td>\n",
              "      <td>0</td>\n",
              "    </tr>\n",
              "    <tr>\n",
              "      <th>3</th>\n",
              "      <td>4.6</td>\n",
              "      <td>3.1</td>\n",
              "      <td>1.5</td>\n",
              "      <td>0.2</td>\n",
              "      <td>0</td>\n",
              "    </tr>\n",
              "    <tr>\n",
              "      <th>4</th>\n",
              "      <td>5.0</td>\n",
              "      <td>3.6</td>\n",
              "      <td>1.4</td>\n",
              "      <td>0.2</td>\n",
              "      <td>0</td>\n",
              "    </tr>\n",
              "    <tr>\n",
              "      <th>...</th>\n",
              "      <td>...</td>\n",
              "      <td>...</td>\n",
              "      <td>...</td>\n",
              "      <td>...</td>\n",
              "      <td>...</td>\n",
              "    </tr>\n",
              "    <tr>\n",
              "      <th>145</th>\n",
              "      <td>6.7</td>\n",
              "      <td>3.0</td>\n",
              "      <td>5.2</td>\n",
              "      <td>2.3</td>\n",
              "      <td>2</td>\n",
              "    </tr>\n",
              "    <tr>\n",
              "      <th>146</th>\n",
              "      <td>6.3</td>\n",
              "      <td>2.5</td>\n",
              "      <td>5.0</td>\n",
              "      <td>1.9</td>\n",
              "      <td>2</td>\n",
              "    </tr>\n",
              "    <tr>\n",
              "      <th>147</th>\n",
              "      <td>6.5</td>\n",
              "      <td>3.0</td>\n",
              "      <td>5.2</td>\n",
              "      <td>2.0</td>\n",
              "      <td>2</td>\n",
              "    </tr>\n",
              "    <tr>\n",
              "      <th>148</th>\n",
              "      <td>6.2</td>\n",
              "      <td>3.4</td>\n",
              "      <td>5.4</td>\n",
              "      <td>2.3</td>\n",
              "      <td>2</td>\n",
              "    </tr>\n",
              "    <tr>\n",
              "      <th>149</th>\n",
              "      <td>5.9</td>\n",
              "      <td>3.0</td>\n",
              "      <td>5.1</td>\n",
              "      <td>1.8</td>\n",
              "      <td>2</td>\n",
              "    </tr>\n",
              "  </tbody>\n",
              "</table>\n",
              "<p>150 rows × 5 columns</p>\n",
              "</div>"
            ],
            "text/plain": [
              "     150    4  setosa  versicolor  virginica\n",
              "0    5.1  3.5     1.4         0.2          0\n",
              "1    4.9  3.0     1.4         0.2          0\n",
              "2    4.7  3.2     1.3         0.2          0\n",
              "3    4.6  3.1     1.5         0.2          0\n",
              "4    5.0  3.6     1.4         0.2          0\n",
              "..   ...  ...     ...         ...        ...\n",
              "145  6.7  3.0     5.2         2.3          2\n",
              "146  6.3  2.5     5.0         1.9          2\n",
              "147  6.5  3.0     5.2         2.0          2\n",
              "148  6.2  3.4     5.4         2.3          2\n",
              "149  5.9  3.0     5.1         1.8          2\n",
              "\n",
              "[150 rows x 5 columns]"
            ]
          },
          "metadata": {
            "tags": []
          },
          "execution_count": 74
        }
      ]
    },
    {
      "cell_type": "code",
      "metadata": {
        "id": "dsLorJoo01TD",
        "colab_type": "code",
        "colab": {
          "base_uri": "https://localhost:8080/",
          "height": 419
        },
        "outputId": "12822fc2-d4a1-4f5a-edc0-6ac38b90f911"
      },
      "source": [
        "iris_df.rename(columns={'150':'Sepal length','4':'Sepal width','setosa':'Petal length','versicolor':'Petal width','virginica':'Species'},inplace=True)\n",
        "iris_df"
      ],
      "execution_count": 75,
      "outputs": [
        {
          "output_type": "execute_result",
          "data": {
            "text/html": [
              "<div>\n",
              "<style scoped>\n",
              "    .dataframe tbody tr th:only-of-type {\n",
              "        vertical-align: middle;\n",
              "    }\n",
              "\n",
              "    .dataframe tbody tr th {\n",
              "        vertical-align: top;\n",
              "    }\n",
              "\n",
              "    .dataframe thead th {\n",
              "        text-align: right;\n",
              "    }\n",
              "</style>\n",
              "<table border=\"1\" class=\"dataframe\">\n",
              "  <thead>\n",
              "    <tr style=\"text-align: right;\">\n",
              "      <th></th>\n",
              "      <th>Sepal length</th>\n",
              "      <th>Sepal width</th>\n",
              "      <th>Petal length</th>\n",
              "      <th>Petal width</th>\n",
              "      <th>Species</th>\n",
              "    </tr>\n",
              "  </thead>\n",
              "  <tbody>\n",
              "    <tr>\n",
              "      <th>0</th>\n",
              "      <td>5.1</td>\n",
              "      <td>3.5</td>\n",
              "      <td>1.4</td>\n",
              "      <td>0.2</td>\n",
              "      <td>0</td>\n",
              "    </tr>\n",
              "    <tr>\n",
              "      <th>1</th>\n",
              "      <td>4.9</td>\n",
              "      <td>3.0</td>\n",
              "      <td>1.4</td>\n",
              "      <td>0.2</td>\n",
              "      <td>0</td>\n",
              "    </tr>\n",
              "    <tr>\n",
              "      <th>2</th>\n",
              "      <td>4.7</td>\n",
              "      <td>3.2</td>\n",
              "      <td>1.3</td>\n",
              "      <td>0.2</td>\n",
              "      <td>0</td>\n",
              "    </tr>\n",
              "    <tr>\n",
              "      <th>3</th>\n",
              "      <td>4.6</td>\n",
              "      <td>3.1</td>\n",
              "      <td>1.5</td>\n",
              "      <td>0.2</td>\n",
              "      <td>0</td>\n",
              "    </tr>\n",
              "    <tr>\n",
              "      <th>4</th>\n",
              "      <td>5.0</td>\n",
              "      <td>3.6</td>\n",
              "      <td>1.4</td>\n",
              "      <td>0.2</td>\n",
              "      <td>0</td>\n",
              "    </tr>\n",
              "    <tr>\n",
              "      <th>...</th>\n",
              "      <td>...</td>\n",
              "      <td>...</td>\n",
              "      <td>...</td>\n",
              "      <td>...</td>\n",
              "      <td>...</td>\n",
              "    </tr>\n",
              "    <tr>\n",
              "      <th>145</th>\n",
              "      <td>6.7</td>\n",
              "      <td>3.0</td>\n",
              "      <td>5.2</td>\n",
              "      <td>2.3</td>\n",
              "      <td>2</td>\n",
              "    </tr>\n",
              "    <tr>\n",
              "      <th>146</th>\n",
              "      <td>6.3</td>\n",
              "      <td>2.5</td>\n",
              "      <td>5.0</td>\n",
              "      <td>1.9</td>\n",
              "      <td>2</td>\n",
              "    </tr>\n",
              "    <tr>\n",
              "      <th>147</th>\n",
              "      <td>6.5</td>\n",
              "      <td>3.0</td>\n",
              "      <td>5.2</td>\n",
              "      <td>2.0</td>\n",
              "      <td>2</td>\n",
              "    </tr>\n",
              "    <tr>\n",
              "      <th>148</th>\n",
              "      <td>6.2</td>\n",
              "      <td>3.4</td>\n",
              "      <td>5.4</td>\n",
              "      <td>2.3</td>\n",
              "      <td>2</td>\n",
              "    </tr>\n",
              "    <tr>\n",
              "      <th>149</th>\n",
              "      <td>5.9</td>\n",
              "      <td>3.0</td>\n",
              "      <td>5.1</td>\n",
              "      <td>1.8</td>\n",
              "      <td>2</td>\n",
              "    </tr>\n",
              "  </tbody>\n",
              "</table>\n",
              "<p>150 rows × 5 columns</p>\n",
              "</div>"
            ],
            "text/plain": [
              "     Sepal length  Sepal width  Petal length  Petal width  Species\n",
              "0             5.1          3.5           1.4          0.2        0\n",
              "1             4.9          3.0           1.4          0.2        0\n",
              "2             4.7          3.2           1.3          0.2        0\n",
              "3             4.6          3.1           1.5          0.2        0\n",
              "4             5.0          3.6           1.4          0.2        0\n",
              "..            ...          ...           ...          ...      ...\n",
              "145           6.7          3.0           5.2          2.3        2\n",
              "146           6.3          2.5           5.0          1.9        2\n",
              "147           6.5          3.0           5.2          2.0        2\n",
              "148           6.2          3.4           5.4          2.3        2\n",
              "149           5.9          3.0           5.1          1.8        2\n",
              "\n",
              "[150 rows x 5 columns]"
            ]
          },
          "metadata": {
            "tags": []
          },
          "execution_count": 75
        }
      ]
    },
    {
      "cell_type": "code",
      "metadata": {
        "id": "prlAXOfJ47IN",
        "colab_type": "code",
        "colab": {
          "base_uri": "https://localhost:8080/",
          "height": 51
        },
        "outputId": "933b1d7d-9acb-4c95-9387-d475a1946e6c"
      },
      "source": [
        "X = iris_df.iloc[:,:-1].values\n",
        "y = iris_df.iloc[:,4].values\n",
        "print(X.shape)\n",
        "print(y.shape)"
      ],
      "execution_count": 76,
      "outputs": [
        {
          "output_type": "stream",
          "text": [
            "(150, 4)\n",
            "(150,)\n"
          ],
          "name": "stdout"
        }
      ]
    },
    {
      "cell_type": "code",
      "metadata": {
        "id": "wfL9ExdG52SV",
        "colab_type": "code",
        "colab": {}
      },
      "source": [
        "# splitting the data into training and test sets\n",
        "from sklearn.model_selection import train_test_split\n",
        "X_train,X_test,y_train,y_test = train_test_split(X,y,test_size=0.3)"
      ],
      "execution_count": 0,
      "outputs": []
    },
    {
      "cell_type": "code",
      "metadata": {
        "id": "nRWITNn8-PR-",
        "colab_type": "code",
        "colab": {
          "base_uri": "https://localhost:8080/",
          "height": 1000
        },
        "outputId": "92c18227-126f-4055-ad7f-fcb349b7fb2f"
      },
      "source": [
        "# training object\n",
        "\n",
        "print(\"X train:\",X_train)"
      ],
      "execution_count": 78,
      "outputs": [
        {
          "output_type": "stream",
          "text": [
            "X train: [[6.9 3.1 5.1 2.3]\n",
            " [7.2 3.2 6.  1.8]\n",
            " [5.8 2.7 3.9 1.2]\n",
            " [5.1 3.4 1.5 0.2]\n",
            " [6.1 2.8 4.  1.3]\n",
            " [6.3 2.8 5.1 1.5]\n",
            " [6.9 3.2 5.7 2.3]\n",
            " [7.7 3.8 6.7 2.2]\n",
            " [6.4 3.2 5.3 2.3]\n",
            " [7.2 3.  5.8 1.6]\n",
            " [7.4 2.8 6.1 1.9]\n",
            " [5.1 3.5 1.4 0.2]\n",
            " [4.4 3.2 1.3 0.2]\n",
            " [4.4 2.9 1.4 0.2]\n",
            " [4.9 3.1 1.5 0.2]\n",
            " [6.4 3.2 4.5 1.5]\n",
            " [6.7 3.  5.  1.7]\n",
            " [5.4 3.4 1.7 0.2]\n",
            " [5.5 2.4 3.7 1. ]\n",
            " [6.6 3.  4.4 1.4]\n",
            " [6.4 2.7 5.3 1.9]\n",
            " [4.4 3.  1.3 0.2]\n",
            " [5.2 2.7 3.9 1.4]\n",
            " [6.  3.4 4.5 1.6]\n",
            " [4.6 3.1 1.5 0.2]\n",
            " [6.7 3.3 5.7 2.1]\n",
            " [5.  3.3 1.4 0.2]\n",
            " [6.5 3.  5.2 2. ]\n",
            " [5.  2.  3.5 1. ]\n",
            " [4.8 3.  1.4 0.1]\n",
            " [6.3 2.5 4.9 1.5]\n",
            " [6.  3.  4.8 1.8]\n",
            " [6.4 2.8 5.6 2.1]\n",
            " [5.6 2.9 3.6 1.3]\n",
            " [6.7 2.5 5.8 1.8]\n",
            " [5.  3.2 1.2 0.2]\n",
            " [5.6 2.5 3.9 1.1]\n",
            " [4.7 3.2 1.6 0.2]\n",
            " [5.6 3.  4.1 1.3]\n",
            " [6.5 2.8 4.6 1.5]\n",
            " [6.3 3.4 5.6 2.4]\n",
            " [5.9 3.  5.1 1.8]\n",
            " [6.  2.2 4.  1. ]\n",
            " [6.3 2.9 5.6 1.8]\n",
            " [5.1 3.5 1.4 0.3]\n",
            " [6.3 3.3 4.7 1.6]\n",
            " [6.2 2.2 4.5 1.5]\n",
            " [5.5 2.5 4.  1.3]\n",
            " [5.  3.4 1.5 0.2]\n",
            " [5.4 3.  4.5 1.5]\n",
            " [4.9 3.  1.4 0.2]\n",
            " [5.4 3.4 1.5 0.4]\n",
            " [5.5 4.2 1.4 0.2]\n",
            " [7.7 2.6 6.9 2.3]\n",
            " [6.7 3.1 5.6 2.4]\n",
            " [6.7 3.1 4.4 1.4]\n",
            " [5.1 3.8 1.6 0.2]\n",
            " [6.7 3.  5.2 2.3]\n",
            " [6.1 2.6 5.6 1.4]\n",
            " [4.3 3.  1.1 0.1]\n",
            " [4.9 2.5 4.5 1.7]\n",
            " [6.  2.2 5.  1.5]\n",
            " [5.8 2.7 4.1 1. ]\n",
            " [7.  3.2 4.7 1.4]\n",
            " [6.9 3.1 5.4 2.1]\n",
            " [4.9 3.6 1.4 0.1]\n",
            " [5.8 2.7 5.1 1.9]\n",
            " [6.  2.7 5.1 1.6]\n",
            " [4.5 2.3 1.3 0.3]\n",
            " [4.8 3.  1.4 0.3]\n",
            " [6.4 2.8 5.6 2.2]\n",
            " [6.8 3.  5.5 2.1]\n",
            " [7.9 3.8 6.4 2. ]\n",
            " [5.1 3.7 1.5 0.4]\n",
            " [4.6 3.6 1.  0.2]\n",
            " [5.8 2.6 4.  1.2]\n",
            " [5.7 2.6 3.5 1. ]\n",
            " [6.9 3.1 4.9 1.5]\n",
            " [5.5 2.4 3.8 1.1]\n",
            " [5.  3.4 1.6 0.4]\n",
            " [5.  2.3 3.3 1. ]\n",
            " [5.7 3.8 1.7 0.3]\n",
            " [5.4 3.9 1.7 0.4]\n",
            " [5.4 3.9 1.3 0.4]\n",
            " [6.6 2.9 4.6 1.3]\n",
            " [5.  3.  1.6 0.2]\n",
            " [7.6 3.  6.6 2.1]\n",
            " [7.1 3.  5.9 2.1]\n",
            " [6.2 2.9 4.3 1.3]\n",
            " [5.3 3.7 1.5 0.2]\n",
            " [5.8 2.8 5.1 2.4]\n",
            " [6.  2.9 4.5 1.5]\n",
            " [5.7 4.4 1.5 0.4]\n",
            " [6.7 3.1 4.7 1.5]\n",
            " [6.4 2.9 4.3 1.3]\n",
            " [4.8 3.4 1.6 0.2]\n",
            " [5.7 2.5 5.  2. ]\n",
            " [5.9 3.  4.2 1.5]\n",
            " [5.6 2.8 4.9 2. ]\n",
            " [6.8 3.2 5.9 2.3]\n",
            " [5.8 2.7 5.1 1.9]\n",
            " [5.  3.5 1.6 0.6]\n",
            " [6.3 2.3 4.4 1.3]\n",
            " [5.5 2.6 4.4 1.2]\n",
            " [6.3 3.3 6.  2.5]]\n"
          ],
          "name": "stdout"
        }
      ]
    },
    {
      "cell_type": "code",
      "metadata": {
        "id": "b18Bv9e4-ioa",
        "colab_type": "code",
        "outputId": "39e39f86-e66d-4c05-d621-5a49aac20fd8",
        "colab": {
          "base_uri": "https://localhost:8080/",
          "height": 51
        }
      },
      "source": [
        "#shape of train and test object\n",
        "print(y_train.shape)\n",
        "print(y_test.shape)"
      ],
      "execution_count": 79,
      "outputs": [
        {
          "output_type": "stream",
          "text": [
            "(105,)\n",
            "(45,)\n"
          ],
          "name": "stdout"
        }
      ]
    },
    {
      "cell_type": "code",
      "metadata": {
        "id": "3eIvYwWpvs3a",
        "colab_type": "code",
        "outputId": "f414d6b3-979c-4ba0-afbc-f4d75d16c96e",
        "colab": {
          "base_uri": "https://localhost:8080/",
          "height": 238
        }
      },
      "source": [
        "#evaluating the algorithm\n",
        "from sklearn.neighbors import KNeighborsClassifier\n",
        "knn = KNeighborsClassifier(n_neighbors=5).fit(X_train,y_train)\n",
        "\n",
        "from sklearn.metrics import classification_report,confusion_matrix\n",
        "print(confusion_matrix(y_test, knn.predict(X_test)))\n",
        "print(classification_report(y_test, knn.predict(X_test)))\n"
      ],
      "execution_count": 80,
      "outputs": [
        {
          "output_type": "stream",
          "text": [
            "[[17  0  0]\n",
            " [ 0 14  0]\n",
            " [ 0  0 14]]\n",
            "              precision    recall  f1-score   support\n",
            "\n",
            "           0       1.00      1.00      1.00        17\n",
            "           1       1.00      1.00      1.00        14\n",
            "           2       1.00      1.00      1.00        14\n",
            "\n",
            "    accuracy                           1.00        45\n",
            "   macro avg       1.00      1.00      1.00        45\n",
            "weighted avg       1.00      1.00      1.00        45\n",
            "\n"
          ],
          "name": "stdout"
        }
      ]
    },
    {
      "cell_type": "code",
      "metadata": {
        "id": "0oxKTg8cCS9F",
        "colab_type": "code",
        "outputId": "a8cb25c1-f8d7-4c7b-9341-ec23d1190f8b",
        "colab": {
          "base_uri": "https://localhost:8080/",
          "height": 850
        }
      },
      "source": [
        "#Try running from k=1 through 50 and perform cross validation to get error values\n",
        "\n",
        "from sklearn.model_selection import cross_val_score\n",
        "\n",
        "k_range = list(np.arange(1,50))\n",
        "scores,val_scores,errorlist = [],[],[]\n",
        "for i in k_range:\n",
        "    knn_model = KNeighborsClassifier(n_neighbors=i).fit(X_train,y_train)\n",
        "    scores = cross_val_score(knn_model, X_train, y_train, scoring = 'accuracy', cv=5)\n",
        "    val_scores.append(scores.mean())\n",
        "for value in val_scores:\n",
        "    errorlist.append(1-value)\n",
        "\n",
        "errorlist"
      ],
      "execution_count": 81,
      "outputs": [
        {
          "output_type": "execute_result",
          "data": {
            "text/plain": [
              "[0.06666666666666676,\n",
              " 0.06666666666666676,\n",
              " 0.05714285714285727,\n",
              " 0.04761904761904778,\n",
              " 0.03809523809523818,\n",
              " 0.04761904761904778,\n",
              " 0.01904761904761898,\n",
              " 0.01904761904761898,\n",
              " 0.01904761904761898,\n",
              " 0.01904761904761898,\n",
              " 0.01904761904761898,\n",
              " 0.028571428571428692,\n",
              " 0.01904761904761898,\n",
              " 0.028571428571428692,\n",
              " 0.028571428571428692,\n",
              " 0.028571428571428692,\n",
              " 0.028571428571428692,\n",
              " 0.028571428571428692,\n",
              " 0.03809523809523818,\n",
              " 0.04761904761904767,\n",
              " 0.03809523809523818,\n",
              " 0.03809523809523818,\n",
              " 0.04761904761904767,\n",
              " 0.04761904761904767,\n",
              " 0.03809523809523818,\n",
              " 0.03809523809523818,\n",
              " 0.03809523809523818,\n",
              " 0.04761904761904767,\n",
              " 0.06666666666666676,\n",
              " 0.08571428571428574,\n",
              " 0.06666666666666676,\n",
              " 0.06666666666666676,\n",
              " 0.07619047619047625,\n",
              " 0.08571428571428574,\n",
              " 0.07619047619047625,\n",
              " 0.08571428571428574,\n",
              " 0.07619047619047625,\n",
              " 0.07619047619047625,\n",
              " 0.07619047619047625,\n",
              " 0.09523809523809523,\n",
              " 0.08571428571428574,\n",
              " 0.10476190476190472,\n",
              " 0.09523809523809523,\n",
              " 0.10476190476190472,\n",
              " 0.09523809523809523,\n",
              " 0.10476190476190472,\n",
              " 0.10476190476190472,\n",
              " 0.10476190476190472,\n",
              " 0.09523809523809523]"
            ]
          },
          "metadata": {
            "tags": []
          },
          "execution_count": 81
        }
      ]
    },
    {
      "cell_type": "code",
      "metadata": {
        "id": "uPGzFet8o00D",
        "colab_type": "code",
        "colab": {
          "base_uri": "https://localhost:8080/",
          "height": 34
        },
        "outputId": "fb054c80-ffd5-451a-a9e7-e2995a32ba00"
      },
      "source": [
        "#finding minimum error value and returning the index position of it to find the best K\n",
        "\n",
        "optimal_k_value = k_range[errorlist.index(min(errorlist))]\n",
        "optimal_model = KNeighborsClassifier(n_neighbors=optimal_k_value).fit(X_train,y_train)\n",
        "\n",
        "#finding the accuracy for the best k value\n",
        "\n",
        "from sklearn.metrics import accuracy_score\n",
        "\n",
        "accuracy = accuracy_score(y_test, optimal_model.predict(X_test))\n",
        "print(\"Accuracy for optimal K value = {0} is {1}\".format(optimal_k_value, (accuracy*100)))\n"
      ],
      "execution_count": 82,
      "outputs": [
        {
          "output_type": "stream",
          "text": [
            "Accuracy for optimal K value = 7 is 95.55555555555556\n"
          ],
          "name": "stdout"
        }
      ]
    },
    {
      "cell_type": "code",
      "metadata": {
        "id": "2Xbk-d3zDpOt",
        "colab_type": "code",
        "outputId": "99545cf8-7177-43ad-e318-39a95ff78171",
        "colab": {
          "base_uri": "https://localhost:8080/",
          "height": 404
        }
      },
      "source": [
        "#plot the relationship between K and the error value\n",
        "\n",
        "plt.figure(figsize=(12,6))\n",
        "plt.plot(k_range,errorlist,color=\"black\",marker=\"o\",markerfacecolor=\"red\",markersize=10)\n",
        "plt.title(\"K values with their error rates\")\n",
        "plt.xlabel('Value of K for KNN')\n",
        "plt.ylabel('Mean Error value')\n",
        "plt.show()"
      ],
      "execution_count": 83,
      "outputs": [
        {
          "output_type": "display_data",
          "data": {
            "image/png": "[encoded data removed]",
            "text/plain": [
              "<Figure size 864x432 with 1 Axes>"
            ]
          },
          "metadata": {
            "tags": [],
            "needs_background": "light"
          }
        }
      ]
    }
  ]
}